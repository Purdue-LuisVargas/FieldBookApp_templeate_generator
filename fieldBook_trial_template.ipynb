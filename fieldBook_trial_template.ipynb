{
 "cells": [
  {
   "cell_type": "markdown",
   "id": "17269f75",
   "metadata": {},
   "source": [
    "### Python Script that creates trial templeates"
   ]
  },
  {
   "cell_type": "markdown",
   "id": "39317ea7",
   "metadata": {},
   "source": [
    "### Load libraries"
   ]
  },
  {
   "cell_type": "code",
   "execution_count": 2,
   "id": "45e1e336",
   "metadata": {},
   "outputs": [],
   "source": [
    "import os\n",
    "\n",
    "# import functions file\n",
    "import sys\n",
    "file = 'functions.py'\n",
    "sys.path.insert(0,os.path.dirname(os.path.abspath(file)))\n",
    "import functions"
   ]
  },
  {
   "cell_type": "markdown",
   "id": "727df211",
   "metadata": {},
   "source": [
    "### Run functions"
   ]
  },
  {
   "cell_type": "code",
   "execution_count": 4,
   "id": "1c0a5d45",
   "metadata": {},
   "outputs": [],
   "source": [
    "# write config file name, the extension file should be .INI\n",
    "configFileName = 'config_ppac_m2.ini'\n",
    "\n",
    "# get the base template\n",
    "baseTemplate = functions.readBaseTemplates(configFileName)\n",
    "\n",
    "functions.createNewFile(configFileName, baseTemplate)"
   ]
  }
 ],
 "metadata": {
  "kernelspec": {
   "display_name": "Python 3 (ipykernel)",
   "language": "python",
   "name": "python3"
  },
  "language_info": {
   "codemirror_mode": {
    "name": "ipython",
    "version": 3
   },
   "file_extension": ".py",
   "mimetype": "text/x-python",
   "name": "python",
   "nbconvert_exporter": "python",
   "pygments_lexer": "ipython3",
   "version": "3.8.12"
  }
 },
 "nbformat": 4,
 "nbformat_minor": 5
}
